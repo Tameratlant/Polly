{
  "nbformat": 4,
  "nbformat_minor": 0,
  "metadata": {
    "colab": {
      "provenance": []
    },
    "kernelspec": {
      "name": "python3",
      "display_name": "Python 3"
    },
    "language_info": {
      "name": "python"
    }
  },
  "cells": [
    {
      "cell_type": "markdown",
      "source": [
        "**Циклы**"
      ],
      "metadata": {
        "id": "SRLPGq_fQMQ7"
      }
    },
    {
      "cell_type": "markdown",
      "source": [
        "Цикл в python - это каокой то алгоритм, повторяющийся определенное количество раз при одних и тех же и ил разных вводных.\n",
        "\n",
        "Простейший пример:\n",
        "\n"
      ],
      "metadata": {
        "id": "i4bAsD0eQSEF"
      }
    },
    {
      "cell_type": "code",
      "execution_count": 2,
      "metadata": {
        "colab": {
          "base_uri": "https://localhost:8080/"
        },
        "id": "gvLCsLV3QIT7",
        "outputId": "aa89c4da-759d-4bd3-ae5b-58e139caacdb"
      },
      "outputs": [
        {
          "output_type": "stream",
          "name": "stdout",
          "text": [
            "Hello\n",
            "Hello\n",
            "Hello\n",
            "Hello\n",
            "Hello\n"
          ]
        }
      ],
      "source": [
        "for i in range (0, 5):\n",
        "    print(\"Hello\")"
      ]
    },
    {
      "cell_type": "markdown",
      "source": [
        "В этом примере переменная i увеличивается на 1 каждый раз, начиная со значения 0 (первое из чисел, указанных в range), пока не достигнет значения 5(второе число в range)\n",
        "\n",
        "В качестве границ можно указывать и целочисленные переменные, например:"
      ],
      "metadata": {
        "id": "OgYS9M1fQmpq"
      }
    },
    {
      "cell_type": "code",
      "source": [
        "left = 3\n",
        "right = 8\n",
        "for i in range (left, right):\n",
        "    print(\"Hello\")"
      ],
      "metadata": {
        "colab": {
          "base_uri": "https://localhost:8080/"
        },
        "id": "lRL3IBmKRHpp",
        "outputId": "3ef88565-94eb-407f-fcbd-adccc0f5fcbf"
      },
      "execution_count": 3,
      "outputs": [
        {
          "output_type": "stream",
          "name": "stdout",
          "text": [
            "Hello\n",
            "Hello\n",
            "Hello\n",
            "Hello\n",
            "Hello\n"
          ]
        }
      ]
    },
    {
      "cell_type": "markdown",
      "source": [
        "Также в цикле можно совершать действия, зависящие от текущего значения i, например:"
      ],
      "metadata": {
        "id": "2Pq7I9tYRPon"
      }
    },
    {
      "cell_type": "code",
      "source": [
        "left = 3\n",
        "right = 8\n",
        "for i in range (left, right):\n",
        "    print(\"Current i = \", i)"
      ],
      "metadata": {
        "colab": {
          "base_uri": "https://localhost:8080/"
        },
        "id": "BQ_6Vt6uRXHI",
        "outputId": "34590c38-bac6-4293-c83e-bd1a0cc30be4"
      },
      "execution_count": 4,
      "outputs": [
        {
          "output_type": "stream",
          "name": "stdout",
          "text": [
            "Current i =  3\n",
            "Current i =  4\n",
            "Current i =  5\n",
            "Current i =  6\n",
            "Current i =  7\n"
          ]
        }
      ]
    },
    {
      "cell_type": "markdown",
      "source": [
        "А также менять какие то внешние по отношению к циклу переменные. Например, найдем сумму чисел от left до right:\n"
      ],
      "metadata": {
        "id": "ZZZS1gWBRiI1"
      }
    },
    {
      "cell_type": "code",
      "source": [
        "left = 3\n",
        "right = 8\n",
        "sum = 0\n",
        "for i in range (left, right):\n",
        "    sum = sum + i\n",
        "print(\"Sum = \", sum)"
      ],
      "metadata": {
        "colab": {
          "base_uri": "https://localhost:8080/"
        },
        "id": "FaEK5c-URqH4",
        "outputId": "ea44bd79-37fe-448d-c68d-e662ec576ef4"
      },
      "execution_count": 5,
      "outputs": [
        {
          "output_type": "stream",
          "name": "stdout",
          "text": [
            "Sum =  25\n"
          ]
        }
      ]
    },
    {
      "cell_type": "markdown",
      "source": [
        "Из цикла можно преждевременно выйти, используя brake:\n"
      ],
      "metadata": {
        "id": "V3qRI0dsRzqT"
      }
    },
    {
      "cell_type": "code",
      "source": [
        "left = 3\n",
        "right = 8\n",
        "sum = 0\n",
        "for i in range (left, right):\n",
        "    sum = sum + i\n",
        "    if (sum > 10):\n",
        "        print(\"Прервываем цикл\")\n",
        "        break\n",
        "print(\"Sum = \", sum)"
      ],
      "metadata": {
        "colab": {
          "base_uri": "https://localhost:8080/"
        },
        "id": "9lXxanM_R8l7",
        "outputId": "6785043d-883d-4641-8e68-3aaf5f9e12bc"
      },
      "execution_count": 6,
      "outputs": [
        {
          "output_type": "stream",
          "name": "stdout",
          "text": [
            "Прервываем цикл\n",
            "Sum =  12\n"
          ]
        }
      ]
    }
  ]
}